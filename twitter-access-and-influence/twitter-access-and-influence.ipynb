{
 "cells": [
  {
   "cell_type": "markdown",
   "metadata": {},
   "source": [
    "# Twitter Access & Influence"
   ]
  },
  {
   "cell_type": "markdown",
   "metadata": {},
   "source": [
    "In the following, we will write a script to collect tweets from the Twitter API about the upcoming iPhone 7. The goal is to identify users who are most influential on the topic using the importance scores we got from the gradient boosting model in the [Predicting Social Influence](https://github.com/juliaawu/mis184n-social-media-analytics/tree/master/predicting-social-influence) assignment. Then, we will create a network of tweets and retweets about the iPhone 7."
   ]
  },
  {
   "cell_type": "code",
   "execution_count": 3,
   "metadata": {
    "collapsed": false
   },
   "outputs": [],
   "source": [
    "import oauth2\n",
    "import time\n",
    "import urllib2\n",
    "import json\n",
    "import pandas as pd\n",
    "import re\n",
    "import sklearn\n",
    "from sklearn import preprocessing"
   ]
  },
  {
   "cell_type": "code",
   "execution_count": 4,
   "metadata": {
    "collapsed": false
   },
   "outputs": [],
   "source": [
    "# Fixed authentication parameters for Twitter API\n",
    "url1 = \"https://api.twitter.com/1.1/search/tweets.json\"\n",
    "params = {\n",
    "    \"oauth_version\": \"1.0\",\n",
    "    \"oauth_nonce\": oauth2.generate_nonce(),\n",
    "    \"oauth_timestamp\": int(time.time())\n",
    "}"
   ]
  },
  {
   "cell_type": "code",
   "execution_count": 5,
   "metadata": {
    "collapsed": false
   },
   "outputs": [],
   "source": [
    "# Variable authentication parameters\n",
    "api_key = 'HQPqqS0OeXv1F5kVEIpCjAfJV'\n",
    "api_secret = 'p8fkGtt5mcgXDqR827qtDMdjc85cupfSP88ay3cGHyCnIVCQ0G'\n",
    "access_token = '224485242-3X6fKZK2fvMwkcRn8OqQGc0EbJK9oRaOUv2irTtY'\n",
    "access_secret = 'VHSm5OmkNR1a7WCxMjCKQxpeHfnhMjqz84r0jU7r780IZ'\n",
    "\n",
    "consumer = oauth2.Consumer(key=api_key, secret=api_secret)\n",
    "token = oauth2.Token(key=access_token, secret=access_secret)\n",
    "\n",
    "params[\"oauth_consumer_key\"] = consumer.key\n",
    "params[\"oauth_token\"] = token.key"
   ]
  },
  {
   "cell_type": "code",
   "execution_count": 10,
   "metadata": {
    "collapsed": true
   },
   "outputs": [],
   "source": [
    "# Search tweets for keyword \"iPhone 7\"\n",
    "maxID = -1\n",
    "search_results_final = []\n",
    "\n",
    "for i in range(65):\n",
    "    url = url1\n",
    "    params[\"q\"] = \"iPhone 7\"\n",
    "    params[\"count\"] = 100\n",
    "    params[\"lang\"] = 'en'\n",
    "    params['max_id'] = maxID\n",
    "    req = oauth2.Request(method=\"GET\", url=url, parameters=params)\n",
    "    signature_method = oauth2.SignatureMethod_HMAC_SHA1()\n",
    "    req.sign_request(signature_method, consumer, token)\n",
    "    url = req.to_url()\n",
    "    response = urllib2.Request(url)\n",
    "    search_results = json.load(urllib2.urlopen(response))\n",
    "    for i in search_results['statuses']:\n",
    "        maxID = int(i['id_str'])-1\n",
    "        search_results_final.append(i)"
   ]
  },
  {
   "cell_type": "code",
   "execution_count": 11,
   "metadata": {
    "collapsed": false
   },
   "outputs": [],
   "source": [
    "# Retrieve user info, tweet, and retweet count\n",
    "user_information = []\n",
    "tweets = []\n",
    "retweet_count = []\n",
    "\n",
    "for i in search_results_final:\n",
    "    i['user']['entities'] = ''\n",
    "    user_information.append(i['user'])\n",
    "    tweets.append(i['text'])\n",
    "    retweet_count.append(i['retweet_count'])"
   ]
  },
  {
   "cell_type": "code",
   "execution_count": 21,
   "metadata": {
    "collapsed": true
   },
   "outputs": [],
   "source": [
    "# Save in df\n",
    "tweets_df =pd.DataFrame(user_information)\n",
    "tweets_df['text'] = tweets\n",
    "tweets_df['retweet_count'] = retweet_count"
   ]
  },
  {
   "cell_type": "markdown",
   "metadata": {},
   "source": [
    "Now that we have the data, we can calculate the scores. We will use the top 4 important attributes as indicated by the boosting model, with the exception of network feature 1 and 2 since they are not a part of this dataset."
   ]
  },
  {
   "cell_type": "code",
   "execution_count": 22,
   "metadata": {
    "collapsed": false
   },
   "outputs": [],
   "source": [
    "# Get columns for calculating score\n",
    "score = tweets_df[['screen_name', 'listed_count', 'followers_count', 'friends_count', 'retweet_count']]"
   ]
  },
  {
   "cell_type": "code",
   "execution_count": 23,
   "metadata": {
    "collapsed": false
   },
   "outputs": [],
   "source": [
    "# Normalize columns\n",
    "cols_to_norm = ['listed_count', 'followers_count', 'friends_count', 'retweet_count']\n",
    "score[cols_to_norm] = score[cols_to_norm].apply(lambda x: (x - x.mean()) / (x.max() - x.min()))"
   ]
  },
  {
   "cell_type": "markdown",
   "metadata": {},
   "source": [
    "For the weights, we will use the importance score for that attribute / the sum of the other importance scores."
   ]
  },
  {
   "cell_type": "code",
   "execution_count": 24,
   "metadata": {
    "collapsed": false
   },
   "outputs": [
    {
     "name": "stderr",
     "output_type": "stream",
     "text": [
      "C:\\Users\\Julia Wu\\Anaconda\\lib\\site-packages\\IPython\\kernel\\__main__.py:2: SettingWithCopyWarning: \n",
      "A value is trying to be set on a copy of a slice from a DataFrame.\n",
      "Try using .loc[row_indexer,col_indexer] = value instead\n",
      "\n",
      "See the the caveats in the documentation: http://pandas.pydata.org/pandas-docs/stable/indexing.html#indexing-view-versus-copy\n",
      "  from IPython.kernel.zmq import kernelapp as app\n"
     ]
    }
   ],
   "source": [
    "# Calculate score using importance scores from gradient boosting model in Predicting Social Influence as weights\n",
    "score['score'] = 0.423115134*score['listed_count'] + 0.303900022*score['followers_count'] + 0.143122359*score['friends_count'] + 0.129862484*score['retweet_count']"
   ]
  },
  {
   "cell_type": "code",
   "execution_count": 25,
   "metadata": {
    "collapsed": false
   },
   "outputs": [
    {
     "data": {
      "text/html": [
       "<div>\n",
       "<table border=\"1\" class=\"dataframe\">\n",
       "  <thead>\n",
       "    <tr style=\"text-align: right;\">\n",
       "      <th></th>\n",
       "      <th>screen_name</th>\n",
       "      <th>listed_count</th>\n",
       "      <th>followers_count</th>\n",
       "      <th>friends_count</th>\n",
       "      <th>retweet_count</th>\n",
       "      <th>score</th>\n",
       "    </tr>\n",
       "  </thead>\n",
       "  <tbody>\n",
       "    <tr>\n",
       "      <th>1543</th>\n",
       "      <td>TheNextWeb</td>\n",
       "      <td>0.993889</td>\n",
       "      <td>0.558258</td>\n",
       "      <td>0.001409</td>\n",
       "      <td>-0.062545</td>\n",
       "      <td>0.582264</td>\n",
       "    </tr>\n",
       "    <tr>\n",
       "      <th>886</th>\n",
       "      <td>TeenVogue</td>\n",
       "      <td>0.298730</td>\n",
       "      <td>0.868529</td>\n",
       "      <td>0.012519</td>\n",
       "      <td>-0.062740</td>\n",
       "      <td>0.383987</td>\n",
       "    </tr>\n",
       "    <tr>\n",
       "      <th>2914</th>\n",
       "      <td>abpnewstv</td>\n",
       "      <td>0.074455</td>\n",
       "      <td>0.998537</td>\n",
       "      <td>-0.005915</td>\n",
       "      <td>-0.063175</td>\n",
       "      <td>0.325908</td>\n",
       "    </tr>\n",
       "    <tr>\n",
       "      <th>1186</th>\n",
       "      <td>macworld</td>\n",
       "      <td>0.460977</td>\n",
       "      <td>0.165527</td>\n",
       "      <td>-0.002704</td>\n",
       "      <td>-0.062871</td>\n",
       "      <td>0.236799</td>\n",
       "    </tr>\n",
       "    <tr>\n",
       "      <th>2139</th>\n",
       "      <td>scarletmonahan</td>\n",
       "      <td>0.020404</td>\n",
       "      <td>0.590566</td>\n",
       "      <td>0.164909</td>\n",
       "      <td>-0.063240</td>\n",
       "      <td>0.203496</td>\n",
       "    </tr>\n",
       "    <tr>\n",
       "      <th>1478</th>\n",
       "      <td>applenws</td>\n",
       "      <td>0.200966</td>\n",
       "      <td>0.347932</td>\n",
       "      <td>-0.006379</td>\n",
       "      <td>-0.062437</td>\n",
       "      <td>0.181747</td>\n",
       "    </tr>\n",
       "    <tr>\n",
       "      <th>1096</th>\n",
       "      <td>intlspectator</td>\n",
       "      <td>0.055694</td>\n",
       "      <td>0.170748</td>\n",
       "      <td>0.621862</td>\n",
       "      <td>-0.061395</td>\n",
       "      <td>0.156485</td>\n",
       "    </tr>\n",
       "    <tr>\n",
       "      <th>3686</th>\n",
       "      <td>phone_crazy</td>\n",
       "      <td>0.008950</td>\n",
       "      <td>0.042664</td>\n",
       "      <td>0.993368</td>\n",
       "      <td>-0.063261</td>\n",
       "      <td>0.150710</td>\n",
       "    </tr>\n",
       "    <tr>\n",
       "      <th>2953</th>\n",
       "      <td>phone_crazy</td>\n",
       "      <td>0.008950</td>\n",
       "      <td>0.042664</td>\n",
       "      <td>0.993368</td>\n",
       "      <td>-0.063261</td>\n",
       "      <td>0.150710</td>\n",
       "    </tr>\n",
       "    <tr>\n",
       "      <th>2318</th>\n",
       "      <td>leyahdeshon</td>\n",
       "      <td>-0.006015</td>\n",
       "      <td>-0.001348</td>\n",
       "      <td>-0.002888</td>\n",
       "      <td>0.936739</td>\n",
       "      <td>0.118279</td>\n",
       "    </tr>\n",
       "    <tr>\n",
       "      <th>854</th>\n",
       "      <td>BrooksLaloni</td>\n",
       "      <td>-0.006047</td>\n",
       "      <td>-0.001334</td>\n",
       "      <td>-0.003332</td>\n",
       "      <td>0.936739</td>\n",
       "      <td>0.118207</td>\n",
       "    </tr>\n",
       "    <tr>\n",
       "      <th>2393</th>\n",
       "      <td>camillelaurenn_</td>\n",
       "      <td>-0.006047</td>\n",
       "      <td>-0.001296</td>\n",
       "      <td>-0.003455</td>\n",
       "      <td>0.936739</td>\n",
       "      <td>0.118200</td>\n",
       "    </tr>\n",
       "    <tr>\n",
       "      <th>2467</th>\n",
       "      <td>LOWKEYDAVEE</td>\n",
       "      <td>-0.006047</td>\n",
       "      <td>-0.001375</td>\n",
       "      <td>-0.003961</td>\n",
       "      <td>0.936739</td>\n",
       "      <td>0.118104</td>\n",
       "    </tr>\n",
       "    <tr>\n",
       "      <th>2202</th>\n",
       "      <td>yooitvalerieeee</td>\n",
       "      <td>-0.006111</td>\n",
       "      <td>-0.001386</td>\n",
       "      <td>-0.004132</td>\n",
       "      <td>0.936739</td>\n",
       "      <td>0.118049</td>\n",
       "    </tr>\n",
       "    <tr>\n",
       "      <th>3729</th>\n",
       "      <td>belin_isabell</td>\n",
       "      <td>-0.006111</td>\n",
       "      <td>-0.001324</td>\n",
       "      <td>-0.004309</td>\n",
       "      <td>0.936739</td>\n",
       "      <td>0.118043</td>\n",
       "    </tr>\n",
       "    <tr>\n",
       "      <th>634</th>\n",
       "      <td>miaacaylenn</td>\n",
       "      <td>-0.006111</td>\n",
       "      <td>-0.001392</td>\n",
       "      <td>-0.004446</td>\n",
       "      <td>0.936739</td>\n",
       "      <td>0.118003</td>\n",
       "    </tr>\n",
       "    <tr>\n",
       "      <th>2116</th>\n",
       "      <td>megannespinosaa</td>\n",
       "      <td>-0.006111</td>\n",
       "      <td>-0.001407</td>\n",
       "      <td>-0.004439</td>\n",
       "      <td>0.936739</td>\n",
       "      <td>0.117999</td>\n",
       "    </tr>\n",
       "    <tr>\n",
       "      <th>4873</th>\n",
       "      <td>DrewJanssen3529</td>\n",
       "      <td>-0.006111</td>\n",
       "      <td>-0.001386</td>\n",
       "      <td>-0.004624</td>\n",
       "      <td>0.936739</td>\n",
       "      <td>0.117979</td>\n",
       "    </tr>\n",
       "    <tr>\n",
       "      <th>2370</th>\n",
       "      <td>janelledestiny</td>\n",
       "      <td>-0.006111</td>\n",
       "      <td>-0.001320</td>\n",
       "      <td>-0.005013</td>\n",
       "      <td>0.936739</td>\n",
       "      <td>0.117943</td>\n",
       "    </tr>\n",
       "    <tr>\n",
       "      <th>2346</th>\n",
       "      <td>gennnnesiis</td>\n",
       "      <td>-0.006079</td>\n",
       "      <td>-0.001326</td>\n",
       "      <td>-0.005225</td>\n",
       "      <td>0.936739</td>\n",
       "      <td>0.117925</td>\n",
       "    </tr>\n",
       "  </tbody>\n",
       "</table>\n",
       "</div>"
      ],
      "text/plain": [
       "          screen_name  listed_count  followers_count  friends_count  \\\n",
       "1543       TheNextWeb      0.993889         0.558258       0.001409   \n",
       "886         TeenVogue      0.298730         0.868529       0.012519   \n",
       "2914        abpnewstv      0.074455         0.998537      -0.005915   \n",
       "1186         macworld      0.460977         0.165527      -0.002704   \n",
       "2139   scarletmonahan      0.020404         0.590566       0.164909   \n",
       "1478         applenws      0.200966         0.347932      -0.006379   \n",
       "1096    intlspectator      0.055694         0.170748       0.621862   \n",
       "3686      phone_crazy      0.008950         0.042664       0.993368   \n",
       "2953      phone_crazy      0.008950         0.042664       0.993368   \n",
       "2318      leyahdeshon     -0.006015        -0.001348      -0.002888   \n",
       "854      BrooksLaloni     -0.006047        -0.001334      -0.003332   \n",
       "2393  camillelaurenn_     -0.006047        -0.001296      -0.003455   \n",
       "2467      LOWKEYDAVEE     -0.006047        -0.001375      -0.003961   \n",
       "2202  yooitvalerieeee     -0.006111        -0.001386      -0.004132   \n",
       "3729    belin_isabell     -0.006111        -0.001324      -0.004309   \n",
       "634       miaacaylenn     -0.006111        -0.001392      -0.004446   \n",
       "2116  megannespinosaa     -0.006111        -0.001407      -0.004439   \n",
       "4873  DrewJanssen3529     -0.006111        -0.001386      -0.004624   \n",
       "2370   janelledestiny     -0.006111        -0.001320      -0.005013   \n",
       "2346      gennnnesiis     -0.006079        -0.001326      -0.005225   \n",
       "\n",
       "      retweet_count     score  \n",
       "1543      -0.062545  0.582264  \n",
       "886       -0.062740  0.383987  \n",
       "2914      -0.063175  0.325908  \n",
       "1186      -0.062871  0.236799  \n",
       "2139      -0.063240  0.203496  \n",
       "1478      -0.062437  0.181747  \n",
       "1096      -0.061395  0.156485  \n",
       "3686      -0.063261  0.150710  \n",
       "2953      -0.063261  0.150710  \n",
       "2318       0.936739  0.118279  \n",
       "854        0.936739  0.118207  \n",
       "2393       0.936739  0.118200  \n",
       "2467       0.936739  0.118104  \n",
       "2202       0.936739  0.118049  \n",
       "3729       0.936739  0.118043  \n",
       "634        0.936739  0.118003  \n",
       "2116       0.936739  0.117999  \n",
       "4873       0.936739  0.117979  \n",
       "2370       0.936739  0.117943  \n",
       "2346       0.936739  0.117925  "
      ]
     },
     "execution_count": 25,
     "metadata": {},
     "output_type": "execute_result"
    }
   ],
   "source": [
    "# Sort descending by score to get top 20 influential users\n",
    "score.sort('score', ascending=0).head(20)"
   ]
  },
  {
   "cell_type": "markdown",
   "metadata": {},
   "source": [
    "Above we have the most influential users on the topic of iPhone 7.\n",
    "\n",
    "Next, we will format the data so that we can build a network of tweets and retweets on the topic. To do this, we need to extract user2 from the text."
   ]
  },
  {
   "cell_type": "code",
   "execution_count": 26,
   "metadata": {
    "collapsed": false
   },
   "outputs": [],
   "source": [
    "# Set user1 as screen_name\n",
    "user1 = [('@'+x) for x in tweets_df['screen_name']]\n",
    "user2 = []\n",
    "tweet_type = []"
   ]
  },
  {
   "cell_type": "code",
   "execution_count": 27,
   "metadata": {
    "collapsed": true
   },
   "outputs": [],
   "source": [
    "# Extract user2 from text. User2 should be the user who retweeted or replied, tweet_type indicates Tweet or RT\n",
    "for index, value in enumerate(tweets_df['text']):\n",
    "    if value[:2] == 'RT':\n",
    "        text = value[3:].split()[0][:-1]\n",
    "        user2.append(text)\n",
    "        tweet_type.append('RT')\n",
    "    elif value[:1] == '@':\n",
    "        text = value[0:].split()[0]\n",
    "        user2.append(text)\n",
    "        tweet_type.append('RT')\n",
    "    else:\n",
    "        user2.append('@'+tweets_df.ix[index,'screen_name'])\n",
    "        tweet_type.append('Tweet')    "
   ]
  },
  {
   "cell_type": "code",
   "execution_count": 29,
   "metadata": {
    "collapsed": false
   },
   "outputs": [],
   "source": [
    "network = pd.concat([pd.Series(user1, name='user1'), pd.Series(user2, name='user2'), pd.Series(tweet_type, name='tweet_type')], axis=1)\n",
    "network.to_csv('network.csv', index=False)"
   ]
  }
 ],
 "metadata": {
  "kernelspec": {
   "display_name": "Python 2",
   "language": "python",
   "name": "python2"
  },
  "language_info": {
   "codemirror_mode": {
    "name": "ipython",
    "version": 2
   },
   "file_extension": ".py",
   "mimetype": "text/x-python",
   "name": "python",
   "nbconvert_exporter": "python",
   "pygments_lexer": "ipython2",
   "version": "2.7.10"
  }
 },
 "nbformat": 4,
 "nbformat_minor": 0
}
